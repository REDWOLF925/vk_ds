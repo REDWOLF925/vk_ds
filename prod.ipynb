{
 "cells": [
  {
   "cell_type": "code",
   "execution_count": 4,
   "metadata": {},
   "outputs": [],
   "source": [
    "import pickle\n",
    "import numpy as np\n",
    "import pandas as pd\n",
    "import matplotlib.pyplot as plt\n",
    "from tqdm import tqdm\n",
    "from xgboost import XGBClassifier\n",
    "from scipy.optimize import curve_fit\n",
    "import seaborn as sns\n",
    "from other import data_preprocessing\n",
    "import xgboost"
   ]
  },
  {
   "cell_type": "code",
   "execution_count": 47,
   "metadata": {},
   "outputs": [],
   "source": [
    "file_name = \"model/xgb.pkl\"\n",
    "xgb_model_loaded = pickle.load(open(file_name, \"rb\"))"
   ]
  },
  {
   "cell_type": "code",
   "execution_count": 57,
   "metadata": {},
   "outputs": [],
   "source": [
    "datapath = 'data/test.parquet'\n",
    "test = pd.read_parquet(datapath)"
   ]
  },
  {
   "cell_type": "code",
   "execution_count": 58,
   "metadata": {},
   "outputs": [
    {
     "data": {
      "text/plain": [
       "(21, 1.0)"
      ]
     },
     "execution_count": 58,
     "metadata": {},
     "output_type": "execute_result"
    }
   ],
   "source": [
    "test_new = test\n",
    "test_new['None_count'] = test['values'].apply(data_preprocessing.none_count)\n",
    "test_new['Len'] = test['values'].apply(len)\n",
    "test_emp = test_new.loc[test_new['None_count'] > 0]\n",
    "test_new = test_new.loc[test_new['None_count'] == 0].drop(['None_count'], axis=1)\n",
    "len(test_emp), (test_emp['None_count'] / test_emp['Len']).min()"
   ]
  },
  {
   "cell_type": "code",
   "execution_count": 59,
   "metadata": {},
   "outputs": [
    {
     "name": "stderr",
     "output_type": "stream",
     "text": [
      "19979it [00:24, 824.88it/s]\n"
     ]
    },
    {
     "data": {
      "text/html": [
       "<div>\n",
       "<style scoped>\n",
       "    .dataframe tbody tr th:only-of-type {\n",
       "        vertical-align: middle;\n",
       "    }\n",
       "\n",
       "    .dataframe tbody tr th {\n",
       "        vertical-align: top;\n",
       "    }\n",
       "\n",
       "    .dataframe thead th {\n",
       "        text-align: right;\n",
       "    }\n",
       "</style>\n",
       "<table border=\"1\" class=\"dataframe\">\n",
       "  <thead>\n",
       "    <tr style=\"text-align: right;\">\n",
       "      <th></th>\n",
       "      <th>id</th>\n",
       "      <th>dates</th>\n",
       "      <th>values</th>\n",
       "      <th>Len</th>\n",
       "      <th>Max</th>\n",
       "      <th>Mean</th>\n",
       "      <th>Sum</th>\n",
       "      <th>Var</th>\n",
       "      <th>Inflow</th>\n",
       "      <th>Outflow</th>\n",
       "      <th>Static_count</th>\n",
       "      <th>Trend</th>\n",
       "      <th>Bias</th>\n",
       "      <th>A</th>\n",
       "      <th>D</th>\n",
       "    </tr>\n",
       "  </thead>\n",
       "  <tbody>\n",
       "    <tr>\n",
       "      <th>0</th>\n",
       "      <td>6125</td>\n",
       "      <td>[2016-01-01T00:00:00.000000000, 2016-02-01T00:...</td>\n",
       "      <td>[1.85, -0.04, 0.19, -0.45, -0.75, -0.95, -2.91...</td>\n",
       "      <td>57</td>\n",
       "      <td>3.13</td>\n",
       "      <td>0.037895</td>\n",
       "      <td>2.160000</td>\n",
       "      <td>2.267992</td>\n",
       "      <td>38.91</td>\n",
       "      <td>41.030000</td>\n",
       "      <td>20</td>\n",
       "      <td>-0.010018</td>\n",
       "      <td>0.318403</td>\n",
       "      <td>-0.112889</td>\n",
       "      <td>-0.000026</td>\n",
       "    </tr>\n",
       "    <tr>\n",
       "      <th>1</th>\n",
       "      <td>26781</td>\n",
       "      <td>[2016-01-01T00:00:00.000000000, 2016-02-01T00:...</td>\n",
       "      <td>[-0.41, 0.39, -0.47, -0.9, -1.46, -0.51, 0.51,...</td>\n",
       "      <td>55</td>\n",
       "      <td>3.85</td>\n",
       "      <td>-0.016909</td>\n",
       "      <td>-0.930000</td>\n",
       "      <td>1.561658</td>\n",
       "      <td>38.71</td>\n",
       "      <td>35.920000</td>\n",
       "      <td>24</td>\n",
       "      <td>-0.009304</td>\n",
       "      <td>0.234312</td>\n",
       "      <td>-0.660982</td>\n",
       "      <td>0.000041</td>\n",
       "    </tr>\n",
       "    <tr>\n",
       "      <th>2</th>\n",
       "      <td>13333</td>\n",
       "      <td>[2016-06-01T00:00:00.000000000, 2016-07-01T00:...</td>\n",
       "      <td>[-0.29, -1.26, 0.17, -1.22, 0.45, -0.94, 0.16,...</td>\n",
       "      <td>55</td>\n",
       "      <td>3.46</td>\n",
       "      <td>-0.039569</td>\n",
       "      <td>-2.176292</td>\n",
       "      <td>1.001027</td>\n",
       "      <td>25.46</td>\n",
       "      <td>23.782191</td>\n",
       "      <td>32</td>\n",
       "      <td>0.025446</td>\n",
       "      <td>-0.726617</td>\n",
       "      <td>-0.133820</td>\n",
       "      <td>-0.000063</td>\n",
       "    </tr>\n",
       "    <tr>\n",
       "      <th>3</th>\n",
       "      <td>53218</td>\n",
       "      <td>[2016-01-01T00:00:00.000000000, 2016-02-01T00:...</td>\n",
       "      <td>[-1.47, 1.55, -0.03, 0.57, -0.57, 0.6, 0.27, 1...</td>\n",
       "      <td>78</td>\n",
       "      <td>3.43</td>\n",
       "      <td>0.159231</td>\n",
       "      <td>12.420000</td>\n",
       "      <td>1.724264</td>\n",
       "      <td>47.50</td>\n",
       "      <td>46.710000</td>\n",
       "      <td>37</td>\n",
       "      <td>-0.008521</td>\n",
       "      <td>0.487274</td>\n",
       "      <td>-0.284269</td>\n",
       "      <td>0.000009</td>\n",
       "    </tr>\n",
       "    <tr>\n",
       "      <th>4</th>\n",
       "      <td>84204</td>\n",
       "      <td>[2016-01-01T00:00:00.000000000, 2016-02-01T00:...</td>\n",
       "      <td>[2.33, 1.39, -1.03, -2.64, 1.89, 1.77, 1.43, 1...</td>\n",
       "      <td>65</td>\n",
       "      <td>2.57</td>\n",
       "      <td>-0.094705</td>\n",
       "      <td>-6.155851</td>\n",
       "      <td>1.545744</td>\n",
       "      <td>34.84</td>\n",
       "      <td>38.667317</td>\n",
       "      <td>28</td>\n",
       "      <td>-0.024730</td>\n",
       "      <td>0.696643</td>\n",
       "      <td>1.321546</td>\n",
       "      <td>-0.000044</td>\n",
       "    </tr>\n",
       "  </tbody>\n",
       "</table>\n",
       "</div>"
      ],
      "text/plain": [
       "      id                                              dates  \\\n",
       "0   6125  [2016-01-01T00:00:00.000000000, 2016-02-01T00:...   \n",
       "1  26781  [2016-01-01T00:00:00.000000000, 2016-02-01T00:...   \n",
       "2  13333  [2016-06-01T00:00:00.000000000, 2016-07-01T00:...   \n",
       "3  53218  [2016-01-01T00:00:00.000000000, 2016-02-01T00:...   \n",
       "4  84204  [2016-01-01T00:00:00.000000000, 2016-02-01T00:...   \n",
       "\n",
       "                                              values  Len   Max      Mean  \\\n",
       "0  [1.85, -0.04, 0.19, -0.45, -0.75, -0.95, -2.91...   57  3.13  0.037895   \n",
       "1  [-0.41, 0.39, -0.47, -0.9, -1.46, -0.51, 0.51,...   55  3.85 -0.016909   \n",
       "2  [-0.29, -1.26, 0.17, -1.22, 0.45, -0.94, 0.16,...   55  3.46 -0.039569   \n",
       "3  [-1.47, 1.55, -0.03, 0.57, -0.57, 0.6, 0.27, 1...   78  3.43  0.159231   \n",
       "4  [2.33, 1.39, -1.03, -2.64, 1.89, 1.77, 1.43, 1...   65  2.57 -0.094705   \n",
       "\n",
       "         Sum       Var  Inflow    Outflow  Static_count     Trend      Bias  \\\n",
       "0   2.160000  2.267992   38.91  41.030000            20 -0.010018  0.318403   \n",
       "1  -0.930000  1.561658   38.71  35.920000            24 -0.009304  0.234312   \n",
       "2  -2.176292  1.001027   25.46  23.782191            32  0.025446 -0.726617   \n",
       "3  12.420000  1.724264   47.50  46.710000            37 -0.008521  0.487274   \n",
       "4  -6.155851  1.545744   34.84  38.667317            28 -0.024730  0.696643   \n",
       "\n",
       "          A         D  \n",
       "0 -0.112889 -0.000026  \n",
       "1 -0.660982  0.000041  \n",
       "2 -0.133820 -0.000063  \n",
       "3 -0.284269  0.000009  \n",
       "4  1.321546 -0.000044  "
      ]
     },
     "execution_count": 59,
     "metadata": {},
     "output_type": "execute_result"
    }
   ],
   "source": [
    "test_new = data_preprocessing.create_new_features(test_new)\n",
    "test_new.head()"
   ]
  },
  {
   "cell_type": "code",
   "execution_count": 60,
   "metadata": {},
   "outputs": [],
   "source": [
    "subm_pred = xgb_model_loaded.predict_proba(test_new[['Sum','D','Trend','A','Bias','Mean','Static_count','Var','Outflow','Max','Len','Inflow']])[:,1]"
   ]
  },
  {
   "cell_type": "code",
   "execution_count": 64,
   "metadata": {},
   "outputs": [],
   "source": [
    "test_new['score'] = subm_pred\n",
    "test['score'] = 0.6\n",
    "test.loc[test.index.isin(test_new.index), 'score'] = test_new['score']"
   ]
  },
  {
   "cell_type": "code",
   "execution_count": 65,
   "metadata": {},
   "outputs": [],
   "source": [
    "test[['id', 'score']].to_csv('submission.csv')"
   ]
  }
 ],
 "metadata": {
  "kernelspec": {
   "display_name": "Python 3",
   "language": "python",
   "name": "python3"
  },
  "language_info": {
   "codemirror_mode": {
    "name": "ipython",
    "version": 3
   },
   "file_extension": ".py",
   "mimetype": "text/x-python",
   "name": "python",
   "nbconvert_exporter": "python",
   "pygments_lexer": "ipython3",
   "version": "3.10.11"
  }
 },
 "nbformat": 4,
 "nbformat_minor": 2
}
