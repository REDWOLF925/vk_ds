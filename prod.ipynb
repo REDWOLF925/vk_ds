{
 "cells": [
  {
   "cell_type": "code",
   "execution_count": null,
   "metadata": {},
   "outputs": [],
   "source": [
    "import pickle\n",
    "import numpy as np\n",
    "import pandas as pd\n",
    "import matplotlib.pyplot as plt\n",
    "from tqdm import tqdm\n",
    "from sklearn.model_selection import test_test_split\n",
    "from xgboost import XGBClassifier\n",
    "from sklearn.metrics import roc_auc_score, precision_score, recall_score\n",
    "from scipy.optimize import curve_fit\n",
    "import seaborn as sns\n",
    "from other import data_preprocessing\n",
    "import xgboost"
   ]
  },
  {
   "cell_type": "code",
   "execution_count": null,
   "metadata": {},
   "outputs": [],
   "source": [
    "file_name = \"model/xgb.pkl\"\n",
    "xgb_model_loaded = pickle.load(open(file_name, \"rb\"))"
   ]
  },
  {
   "cell_type": "code",
   "execution_count": null,
   "metadata": {},
   "outputs": [],
   "source": [
    "datapath = 'data/test.parquet'\n",
    "test = pd.read_parquet(datapath)"
   ]
  },
  {
   "cell_type": "code",
   "execution_count": null,
   "metadata": {},
   "outputs": [],
   "source": [
    "test_new = test\n",
    "test_new['None_count'] = test['values'].apply(data_preprocessing.none_count)\n",
    "test_new['Len'] = test['values'].apply(len)\n",
    "test_emp = test_new.loc[test_new['None_count'] > 0]\n",
    "test_new = test_new.loc[test_new['None_count'] == 0].drop(['None_count'], axis=1)\n",
    "len(test_emp), (test_emp['None_count'] / test_emp['Len']).min()"
   ]
  }
 ],
 "metadata": {
  "kernelspec": {
   "display_name": "Python 3",
   "language": "python",
   "name": "python3"
  },
  "language_info": {
   "name": "python",
   "version": "3.10.11"
  }
 },
 "nbformat": 4,
 "nbformat_minor": 2
}
